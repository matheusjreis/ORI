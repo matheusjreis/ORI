{
  "cells": [
    {
      "cell_type": "code",
      "execution_count": null,
      "metadata": {
        "id": "1_EvH-uyQZAt"
      },
      "outputs": [],
      "source": [
        "import nltk"
      ]
    },
    {
      "cell_type": "code",
      "execution_count": null,
      "metadata": {
        "id": "zbqVerjaZmEf"
      },
      "outputs": [],
      "source": [
        "import re"
      ]
    },
    {
      "cell_type": "code",
      "execution_count": null,
      "metadata": {
        "id": "8eEplSgnXyxq"
      },
      "outputs": [],
      "source": [
        "from nltk.tokenize import word_tokenize"
      ]
    },
    {
      "cell_type": "code",
      "execution_count": null,
      "metadata": {
        "id": "CJmB10ICgUnQ"
      },
      "outputs": [],
      "source": [
        "from nltk.probability import FreqDist"
      ]
    },
    {
      "cell_type": "code",
      "execution_count": null,
      "metadata": {
        "id": "PqEwU2lphhhV"
      },
      "outputs": [],
      "source": [
        "import matplotlib.pyplot as plt"
      ]
    },
    {
      "cell_type": "code",
      "execution_count": null,
      "metadata": {
        "id": "aDDuirOQQlrV"
      },
      "outputs": [],
      "source": [
        "nltk_id = 'machado'\n"
      ]
    },
    {
      "cell_type": "code",
      "execution_count": null,
      "metadata": {
        "id": "82xsbQQJVTax"
      },
      "outputs": [],
      "source": [
        "nltk.download(nltk_id)"
      ]
    },
    {
      "cell_type": "code",
      "execution_count": null,
      "metadata": {
        "id": "lONIfs7WV1fw"
      },
      "outputs": [],
      "source": [
        "print(nltk.corpus.machado.readme())"
      ]
    },
    {
      "cell_type": "code",
      "execution_count": null,
      "metadata": {
        "id": "-Fn9Ocy7V_kP"
      },
      "outputs": [],
      "source": [
        "helena = nltk.corpus.machado.raw('romance/marm03.txt')"
      ]
    },
    {
      "cell_type": "code",
      "execution_count": null,
      "metadata": {
        "id": "jtlHVSmhYzoc"
      },
      "outputs": [],
      "source": [
        "print(helena)"
      ]
    },
    {
      "cell_type": "code",
      "execution_count": null,
      "metadata": {
        "id": "DWicAgMFZGys"
      },
      "outputs": [],
      "source": [
        "    helena_clean_text =  re.findall(r'\\b[A-zÀ-úü]+\\b', helena.lower())"
      ]
    },
    {
      "cell_type": "code",
      "execution_count": null,
      "metadata": {
        "id": "tJxHjFlVaFt9"
      },
      "outputs": [],
      "source": [
        "nltk.download('stopwords')"
      ]
    },
    {
      "cell_type": "code",
      "execution_count": null,
      "metadata": {
        "id": "dhtuFqTUaalt"
      },
      "outputs": [],
      "source": [
        "stopwords = nltk.corpus.stopwords.words('portuguese')"
      ]
    },
    {
      "cell_type": "code",
      "execution_count": null,
      "metadata": {
        "id": "Z6e4AWRuamEP"
      },
      "outputs": [],
      "source": [
        "print(stopwords)"
      ]
    },
    {
      "cell_type": "code",
      "execution_count": null,
      "metadata": {
        "id": "2ub5tErza1J8"
      },
      "outputs": [],
      "source": [
        "portuguese_stopwords = set(stopwords)"
      ]
    },
    {
      "cell_type": "code",
      "execution_count": null,
      "metadata": {
        "id": "SQ6BhlIba8xI"
      },
      "outputs": [],
      "source": [
        "stemming_helena_text = [w for w in helena_clean_text if w not in portuguese_stopwords]"
      ]
    },
    {
      "cell_type": "code",
      "execution_count": null,
      "metadata": {
        "id": "xVYm7l-IbWrO"
      },
      "outputs": [],
      "source": [
        "print(stemming_helena_text)"
      ]
    },
    {
      "cell_type": "code",
      "execution_count": null,
      "metadata": {
        "id": "qYonIeDSefw4"
      },
      "outputs": [],
      "source": [
        "porter = nltk.PorterStemmer()"
      ]
    },
    {
      "cell_type": "code",
      "execution_count": null,
      "metadata": {
        "id": "NZPNxMGmcvt0"
      },
      "outputs": [],
      "source": [
        "no_stemming_helena_text = [porter.stem(t) for t in stemming_helena_text]"
      ]
    },
    {
      "cell_type": "code",
      "execution_count": null,
      "metadata": {
        "id": "aFjytT8renQQ"
      },
      "outputs": [],
      "source": [
        "print(no_stemming_helena_text)"
      ]
    },
    {
      "cell_type": "code",
      "execution_count": null,
      "metadata": {
        "id": "__AFuNd9gjLe"
      },
      "outputs": [],
      "source": [
        "freq_sem_stem = FreqDist(no_stemming_helena_text)\n",
        "freq_com_stem = FreqDist(stemming_helena_text)"
      ]
    },
    {
      "cell_type": "code",
      "execution_count": null,
      "metadata": {
        "id": "wP6bjzI2g8U7"
      },
      "outputs": [],
      "source": [
        "print(\"20 palavras mais frequentes sem stem:\")\n",
        "print(freq_sem_stem.most_common(20))"
      ]
    },
    {
      "cell_type": "code",
      "execution_count": null,
      "metadata": {
        "id": "iJemcW51hMBe"
      },
      "outputs": [],
      "source": [
        "print(\"20 palavras mais frequentes com stem:\")\n",
        "print(freq_com_stem.most_common(20))"
      ]
    },
    {
      "cell_type": "code",
      "execution_count": null,
      "metadata": {
        "id": "G47s-69Qhovw"
      },
      "outputs": [],
      "source": [
        "plt.figure(figsize = (13, 8))\n",
        "freq_sem_stem.plot(25, title = \"Frequência de Palavras - Sem Stemming\")"
      ]
    },
    {
      "cell_type": "code",
      "execution_count": null,
      "metadata": {
        "id": "VLfmmiXriEDL"
      },
      "outputs": [],
      "source": [
        "plt.figure(figsize = (13, 8))\n",
        "freq_com_stem.plot(25, title = \"Frequência de Palavras - Com Stemming\")"
      ]
    }
  ],
  "metadata": {
    "colab": {
      "provenance": []
    },
    "kernelspec": {
      "display_name": "Python 3",
      "name": "python3"
    },
    "language_info": {
      "name": "python"
    }
  },
  "nbformat": 4,
  "nbformat_minor": 0
}